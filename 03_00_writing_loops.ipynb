{
 "cells": [
  {
   "cell_type": "markdown",
   "metadata": {},
   "source": [
    "# Loops and Practice\n",
    "\n",
    "Each question is worth 4 points. 10 questions = 40 points. In all cases full points are given when the code runs and has the correct output. Partial credit will be given for a good try.\n",
    "\n",
    "Reflection is worth 10 points."
   ]
  },
  {
   "cell_type": "markdown",
   "metadata": {},
   "source": [
    "#### 1. For each data type below. Create a variable of that type, and briefly (1 line or less) describe the data types properties in the comment above.\n",
    "    \n",
    "            Example \n",
    "             Integers are a whole number (like 2), not a fraction (like 2.5)\n",
    "             x = 1"
   ]
  },
  {
   "cell_type": "code",
   "execution_count": 4,
   "metadata": {},
   "outputs": [
    {
     "name": "stdout",
     "output_type": "stream",
     "text": [
      "<class 'int'>\n",
      "<class 'float'>\n",
      "<class 'str'>\n",
      "<class 'bool'>\n",
      "<class 'complex'>\n"
     ]
    }
   ],
   "source": [
    "# integers are...\n",
    "x = 10\n",
    "print(type(x))\n",
    "\n",
    "# float\n",
    "y = 1.1\n",
    "print(type(y))\n",
    "\n",
    "# string\n",
    "s = \"hello\"\n",
    "print(type(s))\n",
    "\n",
    "# Boolean\n",
    "b = False\n",
    "print(type(b))\n",
    "\n",
    "# Complex Numbers\n",
    "c = complex(5, 3)\n",
    "print(type(c))"
   ]
  },
  {
   "cell_type": "markdown",
   "metadata": {},
   "source": [
    "#### 2. Explain and demonstrate the rules regarding variable naming in Python. Explain 4 rules. "
   ]
  },
  {
   "cell_type": "code",
   "execution_count": 4,
   "metadata": {},
   "outputs": [
    {
     "ename": "SyntaxError",
     "evalue": "invalid syntax (<ipython-input-4-84d127057296>, line 2)",
     "output_type": "error",
     "traceback": [
      "\u001b[1;36m  File \u001b[1;32m\"<ipython-input-4-84d127057296>\"\u001b[1;36m, line \u001b[1;32m2\u001b[0m\n\u001b[1;33m    I am a variable = x\u001b[0m\n\u001b[1;37m      ^\u001b[0m\n\u001b[1;31mSyntaxError\u001b[0m\u001b[1;31m:\u001b[0m invalid syntax\n"
     ]
    }
   ],
   "source": [
    "# 1) python variable names cannot have a space\n",
    "I am a variable = x"
   ]
  },
  {
   "cell_type": "code",
   "execution_count": 10,
   "metadata": {},
   "outputs": [
    {
     "data": {
      "text/plain": [
       "2"
      ]
     },
     "execution_count": 10,
     "metadata": {},
     "output_type": "execute_result"
    }
   ],
   "source": [
    "# 2) python variable names always start with a letter or underscore, but can have digits\n",
    "\n",
    "x = 1\n",
    "MyX1 = 2\n",
    "MyX1"
   ]
  },
  {
   "cell_type": "code",
   "execution_count": 7,
   "metadata": {},
   "outputs": [
    {
     "data": {
      "text/plain": [
       "1"
      ]
     },
     "execution_count": 7,
     "metadata": {},
     "output_type": "execute_result"
    }
   ],
   "source": [
    "# 3) Python variable names can incude underscore to seperate parts, no other special cahraters\n",
    "x = 1\n",
    "my_x1 = 1\n",
    "my_x1"
   ]
  },
  {
   "cell_type": "code",
   "execution_count": 8,
   "metadata": {},
   "outputs": [
    {
     "ename": "SyntaxError",
     "evalue": "invalid syntax (<ipython-input-8-f41218dfb444>, line 3)",
     "output_type": "error",
     "traceback": [
      "\u001b[1;36m  File \u001b[1;32m\"<ipython-input-8-f41218dfb444>\"\u001b[1;36m, line \u001b[1;32m3\u001b[0m\n\u001b[1;33m    break = 2\u001b[0m\n\u001b[1;37m          ^\u001b[0m\n\u001b[1;31mSyntaxError\u001b[0m\u001b[1;31m:\u001b[0m invalid syntax\n"
     ]
    }
   ],
   "source": [
    "# 4) pytohn variable names should not be a python keyword\n",
    "x = 1\n",
    "break = 2"
   ]
  },
  {
   "cell_type": "markdown",
   "metadata": {},
   "source": [
    "#### 3. Explain and demonstrate what happens when you perform operations (like multiplication or division) across different variable types. Show at least 4 examples. \n",
    "\n",
    "    example: string * int\n",
    "   "
   ]
  },
  {
   "cell_type": "code",
   "execution_count": 1,
   "metadata": {},
   "outputs": [
    {
     "data": {
      "text/plain": [
       "4.66"
      ]
     },
     "execution_count": 1,
     "metadata": {},
     "output_type": "execute_result"
    }
   ],
   "source": [
    "# example 1 int * float = float\n",
    "2 * 2.33"
   ]
  },
  {
   "cell_type": "code",
   "execution_count": 11,
   "metadata": {},
   "outputs": [
    {
     "data": {
      "text/plain": [
       "'abcabc'"
      ]
     },
     "execution_count": 11,
     "metadata": {},
     "output_type": "execute_result"
    }
   ],
   "source": [
    "# example 2 int * str - multiplies the string by the int\n",
    "2 * \"abc\""
   ]
  },
  {
   "cell_type": "code",
   "execution_count": 12,
   "metadata": {},
   "outputs": [
    {
     "ename": "TypeError",
     "evalue": "can't multiply sequence by non-int of type 'float'",
     "output_type": "error",
     "traceback": [
      "\u001b[1;31m---------------------------------------------------------------------------\u001b[0m",
      "\u001b[1;31mTypeError\u001b[0m                                 Traceback (most recent call last)",
      "\u001b[1;32m<ipython-input-12-0ea59aaceab6>\u001b[0m in \u001b[0;36m<module>\u001b[1;34m\u001b[0m\n\u001b[0;32m      1\u001b[0m \u001b[1;31m# example 3 float * str undefined b/c \"abc\" is not a numeric value\u001b[0m\u001b[1;33m\u001b[0m\u001b[1;33m\u001b[0m\u001b[1;33m\u001b[0m\u001b[0m\n\u001b[0;32m      2\u001b[0m \u001b[1;33m\u001b[0m\u001b[0m\n\u001b[1;32m----> 3\u001b[1;33m \u001b[1;36m3.22\u001b[0m \u001b[1;33m*\u001b[0m \u001b[1;34m\"abc\"\u001b[0m\u001b[1;33m\u001b[0m\u001b[1;33m\u001b[0m\u001b[0m\n\u001b[0m",
      "\u001b[1;31mTypeError\u001b[0m: can't multiply sequence by non-int of type 'float'"
     ]
    }
   ],
   "source": [
    "# example 3 float * str = undefined b/c a string cant be multiplied by a float\n",
    "\n",
    "3.22 * \"abc\""
   ]
  },
  {
   "cell_type": "code",
   "execution_count": 14,
   "metadata": {},
   "outputs": [
    {
     "name": "stdout",
     "output_type": "stream",
     "text": [
      "0\n",
      "2\n"
     ]
    }
   ],
   "source": [
    "# example 4 bool * int = int b/c a bool is either a 0 or 1\n",
    "print(False * 2)\n",
    "print(True * 2)"
   ]
  },
  {
   "cell_type": "markdown",
   "metadata": {},
   "source": [
    "#### 4. Write an if statement that evaluates if a variable (y) is greater than or equal to 100, and prints the result (you can show the result in any way you choose)"
   ]
  },
  {
   "cell_type": "code",
   "execution_count": 25,
   "metadata": {},
   "outputs": [
    {
     "name": "stdout",
     "output_type": "stream",
     "text": [
      "The value of y is: 193\n",
      "y is greater than or equal to 100!\n"
     ]
    }
   ],
   "source": [
    "import random\n",
    "\n",
    "y = random.randint(0, 200)\n",
    "print(\"The value of y is: {}\".format(y))\n",
    "if y >= 100:\n",
    "    print(\"y is greater than or equal to 100!\")\n",
    "else:\n",
    "    print(\"y is less than 100!\")"
   ]
  },
  {
   "cell_type": "markdown",
   "metadata": {},
   "source": [
    "#### 5. Print the following pattern using a for loop\n",
    "\n",
    "The pattern is not an error. The first row starts with \"1 1 2\". It is a hard problem, but try your best. If you don't find a solution, then enter a solution for what you do find, don't leave it blank. \n",
    "\n",
    "1 1 2   \n",
    "1 2 3   \n",
    "1 2 3 4   \n",
    "1 2 3 4 5   \n",
    "1 2 3 4 5 6   \n",
    "1 2 3 4 5 6 7   \n",
    "1 2 3 4 5 6 7 8   \n",
    "1 2 3 4 5 6 7 8 9   \n",
    "1 2 3 4 5 6 7 8 9 10  "
   ]
  },
  {
   "cell_type": "code",
   "execution_count": 6,
   "metadata": {},
   "outputs": [
    {
     "name": "stdout",
     "output_type": "stream",
     "text": [
      "1 1 2 \n",
      "\n",
      "1 2 3 \n",
      "\n",
      "1 2 3 4 \n",
      "\n",
      "1 2 3 4 5 \n",
      "\n",
      "1 2 3 4 5 6 \n",
      "\n",
      "1 2 3 4 5 6 7 \n",
      "\n",
      "1 2 3 4 5 6 7 8 \n",
      "\n",
      "1 2 3 4 5 6 7 8 9 \n",
      "\n",
      "1 2 3 4 5 6 7 8 9 10 \n",
      "\n"
     ]
    }
   ],
   "source": [
    "y = 1\n",
    "for x in range(1,10):\n",
    "    p = 1\n",
    "    print(1, end = \" \")\n",
    "    while p < x+1:\n",
    "        if x == 1:\n",
    "            print(\"1 2\", end = \" \")\n",
    "        else:\n",
    "            print(p+y, end = \" \")\n",
    "        p += y\n",
    "    print('\\n')\n",
    "\n",
    "    "
   ]
  },
  {
   "cell_type": "markdown",
   "metadata": {},
   "source": [
    "#### 6. Given any list of positive values: iterate over the list and print/display numbers that are divisible by 2. Ensure the loop stops if it finds a number greater than 100.  An example list is provided, but your code should work on any list of postive values it is passed, of any length. "
   ]
  },
  {
   "cell_type": "code",
   "execution_count": 7,
   "metadata": {},
   "outputs": [
    {
     "name": "stdout",
     "output_type": "stream",
     "text": [
      "[2, 4, 18, 28, 78, 80, 100]\n",
      "I try to keep it postive :/ (Check for negative numbers and try again)\n",
      "[2, 4, 18, 28, 78, 80, 100, 12, 'Brain to small for big numbers...']\n"
     ]
    }
   ],
   "source": [
    "#example of a list you can use to test your code\n",
    "##but you are free to create another list if you like... \n",
    "list1 = [2, 4, 18, 19, 28, 37, 55, 78, 80, 100]\n",
    "errorList = [2, 4, -18, 19, 28, 37, 55, 78, 80, 100, 12, 102]\n",
    "list2 = [2, 4, 18, 19, 28, 37, 55, 78, 80, 100, 12, 102]\n",
    "\n",
    "def divisibleByTwo(list):\n",
    "    returnList =[]\n",
    "    for num in list:\n",
    "        if num < 0:\n",
    "            return \"I try to keep it postive :/ (Check for negative numbers and try again)\"\n",
    "        if num > 100:\n",
    "            returnList.append(\"Brain to small for big numbers...\")\n",
    "            break\n",
    "        test = num % 2\n",
    "        if test == 0:\n",
    "            returnList.append(num)\n",
    "    return returnList\n",
    "        \n",
    "print(divisibleByTwo(list1))\n",
    "print(divisibleByTwo(errorList))\n",
    "print(divisibleByTwo(list2))\n"
   ]
  },
  {
   "cell_type": "markdown",
   "metadata": {},
   "source": [
    "#### 7. Using a variable 'tminus', a positive integer between 1-10, create a countdown timer that starts at tminus, and ends at 0, printing each integer along the way. At the end, generate a statement (can be anything). "
   ]
  },
  {
   "cell_type": "code",
   "execution_count": 8,
   "metadata": {},
   "outputs": [
    {
     "name": "stdout",
     "output_type": "stream",
     "text": [
      "10\n",
      "9\n",
      "8\n",
      "7\n",
      "6\n",
      "5\n",
      "4\n",
      "3\n",
      "2\n",
      "1\n",
      "0\n",
      "can be anything\n"
     ]
    }
   ],
   "source": [
    "# write your solution below\n",
    "def countDown(tminus = 10):\n",
    "    while tminus > -1:\n",
    "        print(tminus)\n",
    "        tminus -= 1\n",
    "    print(\"can be anything\")\n",
    "countDown()"
   ]
  },
  {
   "cell_type": "markdown",
   "metadata": {},
   "source": [
    "#### 8. Create a function that takes 2 numerical arguments, and performs on operation on them.  Print the result of that operation, explain what the function does. "
   ]
  },
  {
   "cell_type": "code",
   "execution_count": 9,
   "metadata": {},
   "outputs": [
    {
     "data": {
      "text/plain": [
       "51"
      ]
     },
     "execution_count": 9,
     "metadata": {},
     "output_type": "execute_result"
    }
   ],
   "source": [
    "# write your solution below\n",
    "# weirdAdd takes in two numbers (x and y), subtracts x by 3 and squares y and then adds them together\n",
    "def weirdAdd(x, y):\n",
    "    x = x - 3\n",
    "    y = y ** 2\n",
    "    return x + y\n",
    "\n",
    "weirdAdd(5, 7)\n"
   ]
  },
  {
   "cell_type": "markdown",
   "metadata": {},
   "source": [
    "#### 9. Create a 'while loop' with a break that will take in a variable 'low' which is less that another variable 'high'. Print every value of low +2, and break when the value is greater than or equal to 'high'.  \n"
   ]
  },
  {
   "cell_type": "code",
   "execution_count": 1,
   "metadata": {},
   "outputs": [
    {
     "name": "stdout",
     "output_type": "stream",
     "text": [
      "4\n",
      "5\n",
      "6\n",
      "7\n",
      "8\n",
      "9\n",
      "10\n",
      "11\n"
     ]
    }
   ],
   "source": [
    "# write your solution below\n",
    "\n",
    "#example:\n",
    "low = 2\n",
    "high = 10\n",
    "\n",
    "while low < high:\n",
    "    print(low+2)\n",
    "    low += 1"
   ]
  },
  {
   "cell_type": "markdown",
   "metadata": {},
   "source": [
    "#### 10. Create as many functions as you have team members (1 function per team member, 1 function cell and 1 markdown cell per team member). Seriously...any function! Explain what your function does, and how it might be useful. Demonstrate it's 'usefulness'. If it is not at all useful, explain why your function is essentially useless. Have fun.\n",
    "\n",
    "(note: to receive points for this exercise, ALL of the functions below this markdown cell must run. If a function has an error, correct it before submitting).\n"
   ]
  },
  {
   "cell_type": "code",
   "execution_count": 11,
   "metadata": {},
   "outputs": [
    {
     "name": "stdout",
     "output_type": "stream",
     "text": [
      "6\n"
     ]
    }
   ],
   "source": [
    "##########################################################################################################\n",
    "#Joel Davis Example\n",
    "#My function takes 3 numbers and adds them up. It is an incredibly useful function with many uses\n",
    "#in ordinary every day lives. Imagine I was in a supermarket, and wanted to sum up the total of 3\n",
    "#items. I could just whip out my laptop, boot jupyter, run this code, and voila, I have the total price.\n",
    "#So much easier than carrying a texas instruments calculator with me everywhere I go!\n",
    "##########################################################################################################\n",
    "\n",
    "def addmeup(x, y, z):\n",
    "    addme = x + y + z\n",
    "    return addme\n",
    "    \n",
    "p = addmeup(2,3,1)\n",
    "print(p) "
   ]
  },
  {
   "cell_type": "markdown",
   "metadata": {},
   "source": [
    "## Dice Roll\n",
    "\n",
    "The function DiceRoll simulates rolling two six sided die, and if they get a 12 then the program terminates. The function is practically useless, but it's kind of cool"
   ]
  },
  {
   "cell_type": "code",
   "execution_count": 6,
   "metadata": {},
   "outputs": [],
   "source": [
    "import random\n",
    "\n",
    "def diceroll():\n",
    "    d1 = random.randint(1, 7)\n",
    "    d2 = random.randint(1, 7)\n",
    "    \n",
    "    while d1 + d2 != 12:\n",
    "        print(\"Rolled a {} and {} = {}\".format(d1, d2, d1+d2))\n",
    "    print(\"Rolled a 12!\")\n",
    "    \n",
    "diceroll()"
   ]
  },
  {
   "cell_type": "markdown",
   "metadata": {},
   "source": [
    "## Fibonacci\n",
    "\n",
    "The function fibonacci calculates the next *amt*+2 numbers in the fibonacci sequence. It could be very useful depending on the situation, as the fibonacci sequence can be useful."
   ]
  },
  {
   "cell_type": "code",
   "execution_count": 4,
   "metadata": {},
   "outputs": [
    {
     "data": {
      "text/plain": [
       "[1, 2, 3, 5, 8, 13, 21, 34, 55, 89, 144, 233]"
      ]
     },
     "execution_count": 4,
     "metadata": {},
     "output_type": "execute_result"
    }
   ],
   "source": [
    "def fibonacci(amt):\n",
    "    nums = [1, 2]\n",
    "    for i in range(amt):\n",
    "        nums.append(nums[-1] + nums[-2])\n",
    "    return nums\n",
    "\n",
    "fibonacci(10)"
   ]
  },
  {
   "cell_type": "markdown",
   "metadata": {},
   "source": [
    "### multithree\n",
    "\n",
    "The function multithree calculates the next *amt* powers of 3. It's not very useful, but it could be useful if you repurposed it to create the powers of different numbers and you wanted to pre-compute some values"
   ]
  },
  {
   "cell_type": "code",
   "execution_count": 1,
   "metadata": {},
   "outputs": [
    {
     "name": "stdout",
     "output_type": "stream",
     "text": [
      "[3, 9, 27, 81, 243, 729, 2187, 6561, 19683, 59049, 177147, 531441, 1594323, 4782969, 14348907, 43046721, 129140163, 387420489, 1162261467, 3486784401]\n"
     ]
    }
   ],
   "source": [
    "def multithree(amt):\n",
    "    nums = [1]\n",
    "    for i in range(amt):\n",
    "        nums.append(nums[-1]*3)\n",
    "        \n",
    "    print(nums[1:])\n",
    "multithree(20)"
   ]
  },
  {
   "cell_type": "markdown",
   "metadata": {},
   "source": []
  },
  {
   "cell_type": "markdown",
   "metadata": {},
   "source": [
    "## mybraindoingmath\n",
    "This function does a great job of providing one with an understanding of my mathematical ability. It is not super useful, but it does a great job helping someone with math, unless, of course, they are looking for anything above a 5th, maybe 4th-grade level."
   ]
  },
  {
   "cell_type": "code",
   "execution_count": 3,
   "metadata": {},
   "outputs": [
    {
     "name": "stdout",
     "output_type": "stream",
     "text": [
      "Takes two numbers and multiplies them every time 🧠👍...\n",
      "1 * 1 = 1\n",
      "2 * 8 = 16\n",
      "4 * 8 = 32\n",
      "5 * 0.78 = I don't do decimals, better ask someone else\n",
      "13 * 13 = I don't know. That's too much, give me something smaller\n"
     ]
    }
   ],
   "source": [
    "def mybraindoingmath(num1,num2):\n",
    "    \"\"\"Takes two numbers and multiplies them every time 🧠👍...\"\"\"\n",
    "    \n",
    "    if num1 > 12 or num2 > 12: \n",
    "        return \"I don't know. That's too much, give me something smaller\"\n",
    "    \n",
    "    elif (num1 % 1) != 0 or (num2 % 1) != 0:\n",
    "        return \"I don't do decimals, better ask someone else\"\n",
    "    \n",
    "    else:\n",
    "        return str(num1 * num2)\n",
    "    \n",
    "print(mybraindoingmath.__doc__)\n",
    "print(\"1 * 1 = \" + mybraindoingmath(1,1))\n",
    "print(\"2 * 8 = \" + mybraindoingmath(2,8))\n",
    "print(\"4 * 8 = \" + mybraindoingmath(4,8))\n",
    "print(\"5 * 0.78 = \" + mybraindoingmath(3,0.78))\n",
    "print(\"13 * 13 = \" + mybraindoingmath(13,13))\n"
   ]
  },
  {
   "cell_type": "code",
   "execution_count": null,
   "metadata": {},
   "outputs": [],
   "source": []
  },
  {
   "cell_type": "markdown",
   "metadata": {},
   "source": []
  },
  {
   "cell_type": "markdown",
   "metadata": {},
   "source": [
    "# Reflection\n",
    "\n",
    "Overall this assignment was very simple and straightforward. We did not run into a lot of trouble answering the questions itself. The most difficult aspect was actually synthesizing our individual work into the same project. We used Github to collaborate on this assignment and once everyone was familiar with the platform, working together became very easy.\n",
    "Going into week 4 we do not think the class has been too hard or too easy. Some people in our group have a background in computer science while others are just beginners. For the most part we feel like we're learning new things but not being overwhelmed at the same time. We expect the class to pick up a little in the following weeks and get a little more challenging.\n",
    "\n",
    "The topics themselves were not overly complicated, and the resources we had access to aptly prepared us for the assignment. The questions were intuitive and well-formatted, and overall was an enjoyable learning experience. "
   ]
  },
  {
   "cell_type": "markdown",
   "metadata": {},
   "source": []
  }
 ],
 "metadata": {
  "kernelspec": {
   "display_name": "Python 3",
   "language": "python",
   "name": "python3"
  },
  "language_info": {
   "codemirror_mode": {
    "name": "ipython",
    "version": 3
   },
   "file_extension": ".py",
   "mimetype": "text/x-python",
   "name": "python",
   "nbconvert_exporter": "python",
   "pygments_lexer": "ipython3",
   "version": "3.6.8"
  }
 },
 "nbformat": 4,
 "nbformat_minor": 4
}
